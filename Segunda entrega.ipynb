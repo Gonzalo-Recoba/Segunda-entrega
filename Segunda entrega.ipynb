{
 "cells": [
  {
   "cell_type": "markdown",
   "id": "b93d2b41-70a5-4061-94e9-10c072db0bf1",
   "metadata": {},
   "source": [
    "# Un Asistente de IA para la Comunicación Institucional\n",
    "\n",
    "## Introducción y Visión del Proyecto\n",
    "El proyecto se centra en desarrollar un asistente de Inteligencia Artificial (IA) para estandarizar y profesionalizar la comunicación escrita en entornos administrativos. La visión no es crear un simple generador de texto, sino una herramienta estratégica que optimice la eficiencia, refuerce la imagen profesional y garantice la claridad en documentos formales como notas, memorandos y solicitudes.\n",
    "\n",
    "Esta segunda entrega representa la transición de la idea teórica a una Prueba de Concepto (POC) funcional, desarrollada en un Jupyter Notebook. Este entorno fue elegido por su capacidad para facilitar la creación rápida de prototipos y la experimentación iterativa, algo clave en la ingeniería de prompts. El avance fundamental de esta fase es la evolución de técnicas de prompting básicas (Zero-Shot) a métodos avanzados y estructurados (Few-Shot), lo que transforma la solución de un generador impredecible a un asistente de redacción fiable y preciso.\n",
    "\n",
    "## Análisis del Problema y Solución Estratégica con IA\n",
    "El problema abordado va más allá de la simple redacción de documentos; implica una alta carga cognitiva para el personal, inconsistencia en la comunicación que daña la imagen institucional, y retrasos operativos causados por textos ambiguos. Una comunicación deficiente representa un riesgo operacional significativo que compromete la eficiencia y la credibilidad de la institución.\n",
    "\n",
    "La IA, específicamente los Modelos de Lenguaje Grandes (LLM), es una solución ideal para este problema, ya que son expertos en replicar patrones lingüísticos, tonos y formatos. La solución propuesta utiliza la técnica de Few-Shot Prompting para \"enseñarle\" a la IA la \"voz\" específica de la institución a través de ejemplos. De este modo, el asistente no solo genera texto, sino que actúa como un garante de los estándares de comunicación institucional, asegurando coherencia y calidad.\n",
    "\n",
    "## Arquitectura y Evolución de las Técnicas de Prompting\n",
    "La arquitectura del proyecto se basa en una pila tecnológica robusta y accesible:\n",
    "\n",
    "* Lenguaje: Python.\n",
    "* Entorno: Jupyter Notebook.\n",
    "* Motor de IA: API de Google Gemini.\n",
    "\n",
    "El término \"Fast Prompting\" se redefine no como una técnica única, sino como un conjunto de prácticas de ingeniería de prompts efectivas que aceleran el ciclo de desarrollo al obtener resultados de alta calidad de forma rápida y fiable.\n",
    "\n",
    "La mejora clave del proyecto es la transición del Zero-Shot Prompting (instrucciones directas sin ejemplos) al Few-Shot Prompting. Mientras que el Zero-Shot es simple pero impredecible, el Few-Shot incluye ejemplos completos (\"shots\") que activan el Aprendizaje en Contexto (In-Context Learning) del modelo. Esto permite condicionar activamente a la IA, guiándola para que aprenda el patrón, formato y tono deseados a partir de los ejemplos, logrando resultados mucho más precisos y alineados con las expectativas.\n",
    "\n",
    "Para sistematizar este proceso, se adoptó el marco de diseño T-C-E-P-F-T, que desglosa un prompt en sus componentes esenciales: Tarea, Contexto, Ejemplos, Persona, Formato y Tono.\n",
    "\n",
    "## Demostración y Viabilidad del Proyecto\n",
    "Una demostración práctica evidencia la superioridad del enfoque mejorado. Un prompt Zero-Shot para generar un memorando produce un texto genérico e informal. En contraste, el nuevo prompt Few-Shot y estructurado genera un documento con el formato, encabezado y tono profesional correctos de un memorando oficial, validando empíricamente la eficacia de las técnicas avanzadas.\n",
    "\n",
    "### Viabilidad Técnica:\n",
    "La viabilidad técnica se confirma, ya que la pila tecnológica ha demostrado ser altamente eficaz. La complejidad no reside en el código, sino en el diseño estratégico de los prompts, lo que permite mejorar el rendimiento del sistema sin necesidad de reentrenar modelos o construir infraestructuras complejas.\n",
    "\n",
    "### Viabilidad Económica:\n",
    "Aunque los prompts Few-Shot consumen más tokens de entrada y tienen un costo mayor por llamada a la API, su tasa de éxito en el primer intento es significativamente más alta (superior al 95%). Esto reduce la necesidad de re-generaciones y edición manual, haciendo que el costo total por resultado exitoso sea a menudo menor que con los prompts Zero-Shot, que son más baratos pero ineficientes. Se proponen además estrategias de optimización como la concisión de prompts y el uso de caché para asegurar la sostenibilidad a largo plazo.\n",
    "\n",
    "## Conclusión y Mejoras Futuras\n",
    "El proyecto ha validado exitosamente la propuesta de un asistente de IA mediante una POC funcional, demostrando una mejora sustancial en la calidad y fiabilidad de los textos generados. La adopción de técnicas de prompting estructuradas ha transformado la solución de un experimento a un prototipo de herramienta robusta y viable para un entorno profesional real.\n",
    "\n",
    "Las mejoras futuras propuestas incluyen:\n",
    "- Desarrollo de una Interfaz Gráfica de Usuario (GUI) para hacer la herramienta accesible a personal no técnico.\n",
    "\n",
    "- Implementación de Retrieval-Augmented Generation (RAG), conectando el LLM a una base de datos interna de documentos para generar textos contextualmente conscientes de la historia y terminología de la institución, alcanzando un nivel de personalización sin precedentes."
   ]
  },
  {
   "cell_type": "code",
   "execution_count": 10,
   "id": "626343a9-ba33-4fcc-b436-4d806c82591c",
   "metadata": {},
   "outputs": [],
   "source": [
    "import google.generativeai as genai\n",
    "genai.configure(api_key=\"\")"
   ]
  },
  {
   "cell_type": "code",
   "execution_count": 11,
   "id": "9d7a8033-0832-40c4-985f-53ce62329ee3",
   "metadata": {},
   "outputs": [],
   "source": [
    "prompt_nota_formal = \"\"\"\n",
    "Actúa como un secretario administrativo. Tu tarea es a elaborar y redactar notas, memos, tramites, correos electrónicos y demás comunicaciones institucionales utilizando un tono formal, respetuoso y profesional.\n",
    "Ayudame a elaborar solicitudes, manteniendo el tono y formato:\n",
    "La estructura debe ser clara: introducción, fundamentación y conclusión.\n",
    "\n",
    "**EJEMPLO 1**\n",
    "**Introduccion**\n",
    "Se eleva para su consideración nota recibida por la Dirección de <<Centro Educativo>>, en la que se solicita la asignación de una partida especial de $4.944 (pesos uruguayos cuatro mil novecientos cuarenta y cuatro c/cero).\n",
    "**Fumdamentacion**\n",
    "Dicha partida se solicita en el marco de la organización del Congreso Gastronómico “Sabores con Identidad”, a realizarse los días 8 y 9 de octubre en la Sala Auditorio del Parque Artigas de Las Piedras. Este evento tiene como propósito central la promoción de la gastronomía y bebida local, así como la generación de instancias formativas y de intercambio profesional entre estudiantes, docentes y especialistas del área.\n",
    "El Congreso contará con la participación de disertantes provenientes de los departamentos de Maldonado y Salto, cuya presencia resulta fundamental para el enriquecimiento técnico y cultural de la actividad. En virtud de ello, se requiere cubrir los gastos de traslado y alimentación correspondientes, a fin de garantizar su asistencia y participación activa.\n",
    "Cabe señalar que el evento se encuentra en proceso de declaración de interés institucional, y cuenta con el aval de la Inspectora Técnica de Gastronomía.\n",
    "**Conclusion**\n",
    "Por lo expuesto, esta Inspección solicita se considere favorablemente la asignación de la partida mencionada, entendiendo que el Congreso “Sabores con Identidad” representa una valiosa oportunidad para fortalecer los conocimientos técnicos y profesionales de los estudiantes, docentes y demás actores vinculados a la comunidad educativa, al tiempo que fomenta la expresión cultural y el reconocimiento de la identidad gastronómica local, reafirmando la importancia educativa y cultural.\n",
    "\n",
    "\n",
    "**EJEMPLO 2**\n",
    "**Introduccion**\n",
    "Se somete a consideración la nota presentada por la Dirección de <<Centro Educativo>>, mediante la cual se solicita la asignación de 20 horas de apoyo a Dirección para el docente <<Nombre del docente>>, quien actualmente se desempeña como profesora de Sociología en dicho Centro Educativo.\n",
    "**Fundamentacion**\n",
    "La petición se fundamenta en la necesidad de contar con una figura pedagógica que acompañe a los estudiantes. Esta necesidad surge en virtud de que el Centro cuenta con 12 cargos de adscripción, de los cuales dos permanecen vacantes desde el inicio del presente año debido a licencias médicas prolongadas.\n",
    "**Conclusion**\n",
    "Por lo expuesto, esta Inspección solicita que se considere lo planteado por la Dirección del Centro Educativo, a fin de fortalecer el acompañamiento a los estudiantes en el desarrollo de sus actividades curriculares.\n",
    "\n",
    "\n",
    "**--- FIN DE EJEMPLOS ---**\n",
    "\n",
    "Ahora, utiliza la siguiente información para generar una nueva nota:\n",
    "{user_input}\n",
    "\"\"\""
   ]
  },
  {
   "cell_type": "code",
   "execution_count": 12,
   "id": "a04c24d4-3cca-4976-ac37-88a27d1ec993",
   "metadata": {},
   "outputs": [],
   "source": [
    "def generate_document(prompt_template, user_data):\n",
    "\n",
    "    model = genai.GenerativeModel('gemini-2.5-flash')\n",
    "    \n",
    "    final_prompt = prompt_template.format(user_input=user_data)\n",
    "    \n",
    "    response = model.generate_content(final_prompt)\n",
    "    \n",
    "    return response.text"
   ]
  },
  {
   "cell_type": "code",
   "execution_count": null,
   "id": "ff70cac4-9ee6-42ca-b816-538ff198b1a1",
   "metadata": {
    "scrolled": true
   },
   "outputs": [],
   "source": [
    "user_input = input(\"Detalla la solicitud:\")\n",
    "print(generate_document(prompt_nota_formal, user_input))"
   ]
  }
 ],
 "metadata": {
  "kernelspec": {
   "display_name": "Python 3 (ipykernel)",
   "language": "python",
   "name": "python3"
  },
  "language_info": {
   "codemirror_mode": {
    "name": "ipython",
    "version": 3
   },
   "file_extension": ".py",
   "mimetype": "text/x-python",
   "name": "python",
   "nbconvert_exporter": "python",
   "pygments_lexer": "ipython3",
   "version": "3.10.18"
  }
 },
 "nbformat": 4,
 "nbformat_minor": 5
}
